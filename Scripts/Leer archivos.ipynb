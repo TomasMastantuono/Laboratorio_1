{
 "cells": [
  {
   "cell_type": "code",
   "execution_count": null,
   "metadata": {},
   "outputs": [],
   "source": [
    "import numpy as np"
   ]
  },
  {
   "cell_type": "code",
   "execution_count": null,
   "metadata": {},
   "outputs": [],
   "source": [
    "def leer_txt(nombre_archivo):\n",
    "    f = open(f\"{nombre_archivo}.txt\",'r')\n",
    "    lines = f.readlines()[4:-1]\n",
    "\n",
    "    tiempo = [] #segundos\n",
    "    newtons = []\n",
    "\n",
    "    for line in lines:\n",
    "        tiempo.append(float(line.split(\"\\t\")[0].replace(',', '.')))\n",
    "        newtons.append(float(line.split(\"\\t\")[1].split(\"\\n\")[0].replace(',', '.')))\n",
    "\n",
    "    tiempo = np.array(tiempo)\n",
    "    newtons = np.array(newtons)\n",
    "\n",
    "    return tiempo, newtons"
   ]
  }
 ],
 "metadata": {
  "language_info": {
   "name": "python"
  },
  "orig_nbformat": 4
 },
 "nbformat": 4,
 "nbformat_minor": 2
}
