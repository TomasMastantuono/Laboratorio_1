{
  "nbformat": 4,
  "nbformat_minor": 0,
  "metadata": {
    "colab": {
      "provenance": []
    },
    "kernelspec": {
      "name": "python3",
      "display_name": "Python 3"
    },
    "language_info": {
      "name": "python"
    }
  },
  "cells": [
    {
      "cell_type": "code",
      "execution_count": null,
      "metadata": {
        "id": "AFV63IOZQeF-"
      },
      "outputs": [],
      "source": [
        "import numpy as np\n",
        "import matplotlib.pyplot as plt"
      ]
    },
    {
      "cell_type": "markdown",
      "source": [
        "Cuadrados Minimos Lineales"
      ],
      "metadata": {
        "id": "xz3TKCtoZcX5"
      }
    },
    {
      "cell_type": "code",
      "source": [
        "#definimos el parametro a\n",
        "def a(N, xi, yi ):\n",
        "    numerador_a = (N * np.sum(xi * yi)) - ((np.sum(xi)) * (np.sum(yi))) \n",
        "    denominador_a = ((N*np.sum(xi**2))) - ((np.sum(xi)**2))\n",
        "    return numerador_a/denominador_a\n",
        "#definimos el parametro b\n",
        "def b(N,xi,yi):\n",
        "    numerador_b = (np.sum(xi**2))*(np.sum(yi)) - (np.sum(xi)*np.sum(xi*yi))\n",
        "    denominador_b = ((N*np.sum(xi**2))) - ((np.sum(xi)**2))\n",
        "    return numerador_b/denominador_b \n",
        "#definimos f(xi)= axi +b\n",
        "def f(N,xi,yi): return a(N,xi,yi)* xi + b(N,xi,yi)\n",
        "\n",
        "def sigma_a(N,xi,yi):\n",
        "    delta_a= ((N*np.sum(xi**2))) - ((np.sum(xi)**2))\n",
        "    cociente= N/delta_a\n",
        "    sigma_ya=np.std(yi)\n",
        "    return sigma_ya*np.sqrt(cociente)\n",
        "def sigma_b(N,xi,yi):\n",
        "    delta_b= ((N*np.sum(xi**2))) - ((np.sum(xi)**2))\n",
        "    cociente= (np.sum(xi**2))/delta_b\n",
        "    sigma_yb=np.std(yi)\n",
        "    return sigma_yb*np.sqrt(cociente)\n",
        "   \n",
        "    #N= cantidad de mediciones \n",
        "    #donde Xi Yi son los datos medidos "
      ],
      "metadata": {
        "id": "zh-rvzvsQnaZ"
      },
      "execution_count": null,
      "outputs": []
    },
    {
      "cell_type": "markdown",
      "source": [
        "Cuadrados Minimos lineales ponderados"
      ],
      "metadata": {
        "id": "ZEOfLS6lW-9u"
      }
    },
    {
      "cell_type": "code",
      "source": [
        "#definimos el parametro a\n",
        "def a(N, xi, yi, sigma_yi):\n",
        "    wi = 1 / (sigma_yi**2)\n",
        "    numerador_a = (np.sum(wi) * np.sum(xi * yi * wi)) - ((np.sum(xi * wi)) * (np.sum(yi * wi))) \n",
        "    denominador_a = ((np.sum(wi * xi**2))) - ((np.sum(xi * wi)**2))\n",
        "    return numerador_a/denominador_a\n",
        "#definimos el parametro b\n",
        "def b(N,xi,yi, sigma_yi):\n",
        "    wi = 1 / (sigma_yi**2)\n",
        "    numerador_b = (np.sum(wi * xi**2)) * (np.sum(wi * yi)) - (np.sum(xi * wi)*np.sum(xi * yi * wi))\n",
        "    denominador_b = ((np.sum(wi * xi**2))) - ((np.sum(xi * wi)**2))\n",
        "    return numerador_b/denominador_b \n",
        "#definimos f(xi)= axi +b\n",
        "def f(N,xi,yi,sigma_y): return a(N,xi,yi,sigma_y)* xi + b(N,xi,yi,sigma_y)\n",
        "\n",
        "def sigma_a(N,xi,yi,sigma_yi):\n",
        "    wi = 1 / (sigma_yi**2)\n",
        "    denominador_a = ((np.sum(wi * xi**2))) - ((np.sum(xi * wi)**2))\n",
        "    radicando = (np.sum(wi)) / (denominador_a)\n",
        "    return np.sqrt(radicando)\n",
        "\n",
        "def sigma_b(N,xi,yi,sigma_yi):\n",
        "    wi = 1 / (sigma_yi**2)\n",
        "    denominador_b = ((np.sum(wi * xi**2))) - ((np.sum(xi * wi)**2))\n",
        "    radicando = (np.sum(wi * xi**2)) / denominador_b\n",
        "    return np.sqrt(radicando)"
      ],
      "metadata": {
        "id": "fd8n3VE1W7s_"
      },
      "execution_count": null,
      "outputs": []
    },
    {
      "cell_type": "code",
      "source": [
        "p = np.polyfit(x, f(num_mediciones, x, y), 1)\n",
        "plt.plot(x, y, 'r.')\n",
        "plt.plot (x, np.polyval(p, x), 'm--')\n",
        "#comparamos con el codigo del polyfit\n",
        "plt.plot(x, f(num_mediciones, x, y))\n",
        "plt.show()\n",
        "print(a(num_mediciones, x, y))\n",
        "print(b(num_mediciones, x, y))\n"
      ],
      "metadata": {
        "id": "mCQCtnM3ASm0"
      },
      "execution_count": null,
      "outputs": []
    },
    {
      "cell_type": "code",
      "source": [],
      "metadata": {
        "id": "OjvDNN-hxdrj"
      },
      "execution_count": null,
      "outputs": []
    }
  ]
}