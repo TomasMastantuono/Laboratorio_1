{
  "cells": [
    {
      "attachments": {},
      "cell_type": "markdown",
      "metadata": {},
      "source": [
        "# Importo librerias"
      ]
    },
    {
      "cell_type": "code",
      "execution_count": null,
      "metadata": {
        "id": "AFV63IOZQeF-"
      },
      "outputs": [],
      "source": [
        "import numpy as np\n",
        "import matplotlib.pyplot as plt"
      ]
    },
    {
      "attachments": {},
      "cell_type": "markdown",
      "metadata": {
        "id": "xz3TKCtoZcX5"
      },
      "source": [
        "## Cuadrados Minimos Lineales"
      ]
    },
    {
      "cell_type": "code",
      "execution_count": null,
      "metadata": {
        "id": "zh-rvzvsQnaZ"
      },
      "outputs": [],
      "source": [
        "#definimos el parametro a\n",
        "def a(N, xi, yi ):\n",
        "    numerador_a = (N * np.sum(xi * yi)) - ((np.sum(xi)) * (np.sum(yi))) \n",
        "    denominador_a = ((N*np.sum(xi**2))) - ((np.sum(xi)**2))\n",
        "    return numerador_a/denominador_a\n",
        "#definimos el parametro b\n",
        "def b(N,xi,yi):\n",
        "    numerador_b = (np.sum(xi**2))*(np.sum(yi)) - (np.sum(xi)*np.sum(xi*yi))\n",
        "    denominador_b = ((N*np.sum(xi**2))) - ((np.sum(xi)**2))\n",
        "    return numerador_b/denominador_b \n",
        "#definimos f(xi)= axi +b\n",
        "def f(N,xi,yi): return a(N,xi,yi)* xi + b(N,xi,yi)\n",
        "\n",
        "def sigma_a(N,xi,yi):\n",
        "    delta_a= ((N*np.sum(xi**2))) - ((np.sum(xi)**2))\n",
        "    cociente= N/delta_a\n",
        "    sigma_ya=np.std(yi)\n",
        "    return sigma_ya*np.sqrt(cociente)\n",
        "def sigma_b(N,xi,yi):\n",
        "    delta_b= ((N*np.sum(xi**2))) - ((np.sum(xi)**2))\n",
        "    cociente= (np.sum(xi**2))/delta_b\n",
        "    sigma_yb=np.std(yi)\n",
        "    return sigma_yb*np.sqrt(cociente)\n",
        "   \n",
        "    #N= cantidad de mediciones \n",
        "    #donde Xi Yi son los datos medidos "
      ]
    },
    {
      "attachments": {},
      "cell_type": "markdown",
      "metadata": {
        "id": "ZEOfLS6lW-9u"
      },
      "source": [
        "## Cuadrados Minimos lineales ponderados"
      ]
    },
    {
      "cell_type": "code",
      "execution_count": null,
      "metadata": {
        "id": "fd8n3VE1W7s_"
      },
      "outputs": [],
      "source": [
        "#definimos el parametro a\n",
        "def a(N, xi, yi, sigma_yi):\n",
        "    wi = 1 / (sigma_yi**2)\n",
        "    numerador_a = (np.sum(wi) * np.sum(xi * yi * wi)) - ((np.sum(xi * wi)) * (np.sum(yi * wi))) \n",
        "    denominador_a = ((np.sum(wi * xi**2))) - ((np.sum(xi * wi)**2))\n",
        "    return numerador_a/denominador_a\n",
        "#definimos el parametro b\n",
        "def b(N,xi,yi, sigma_yi):\n",
        "    wi = 1 / (sigma_yi**2)\n",
        "    numerador_b = (np.sum(wi * xi**2)) * (np.sum(wi * yi)) - (np.sum(xi * wi)*np.sum(xi * yi * wi))\n",
        "    denominador_b = ((np.sum(wi * xi**2))) - ((np.sum(xi * wi)**2))\n",
        "    return numerador_b/denominador_b \n",
        "#definimos f(xi)= axi +b\n",
        "def f(N,xi,yi,sigma_y): return a(N,xi,yi,sigma_y)* xi + b(N,xi,yi,sigma_y)\n",
        "\n",
        "def sigma_a(N,xi,yi,sigma_yi):\n",
        "    wi = 1 / (sigma_yi**2)\n",
        "    denominador_a = ((np.sum(wi * xi**2))) - ((np.sum(xi * wi)**2))\n",
        "    radicando = (np.sum(wi)) / (denominador_a)\n",
        "    return np.sqrt(radicando)\n",
        "\n",
        "def sigma_b(N,xi,yi,sigma_yi):\n",
        "    wi = 1 / (sigma_yi**2)\n",
        "    denominador_b = ((np.sum(wi * xi**2))) - ((np.sum(xi * wi)**2))\n",
        "    radicando = (np.sum(wi * xi**2)) / denominador_b\n",
        "    return np.sqrt(radicando)"
      ]
    }
  ],
  "metadata": {
    "colab": {
      "provenance": []
    },
    "kernelspec": {
      "display_name": "Python 3",
      "name": "python3"
    },
    "language_info": {
      "name": "python"
    }
  },
  "nbformat": 4,
  "nbformat_minor": 0
}
