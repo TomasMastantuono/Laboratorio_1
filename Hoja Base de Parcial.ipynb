{
  "cells": [
    {
      "attachments": {},
      "cell_type": "markdown",
      "metadata": {},
      "source": [
        "# Elementos Necesarios"
      ]
    },
    {
      "attachments": {},
      "cell_type": "markdown",
      "metadata": {
        "id": "Wccm8KwFwxlM"
      },
      "source": [
        "## Librerias"
      ]
    },
    {
      "cell_type": "code",
      "execution_count": 1,
      "metadata": {
        "id": "Qraa03jaxEYb"
      },
      "outputs": [],
      "source": [
        "import numpy as np\n",
        "import matplotlib.pyplot as plt\n",
        "from scipy.stats import chi2\n",
        "from importlib import reload\n",
        "import pandas as pd\n",
        "import sympy as sp\n",
        "from scipy.optimize import curve_fit\n",
        "import scipy.stats as stats\n",
        "from scipy.stats import norm\n",
        "from scipy.integrate import quad\n",
        "plt=reload(plt)"
      ]
    },
    {
      "attachments": {},
      "cell_type": "markdown",
      "metadata": {
        "id": "D0RTwhzZxSrq"
      },
      "source": [
        "## Funciones"
      ]
    },
    {
      "attachments": {},
      "cell_type": "markdown",
      "metadata": {
        "id": "lEcLx9MgzlzD"
      },
      "source": [
        "### Leer Archivos txt"
      ]
    },
    {
      "cell_type": "code",
      "execution_count": null,
      "metadata": {
        "id": "Hw1OUnKMz0B6"
      },
      "outputs": [],
      "source": [
        "def leer_txt(nombre_archivo):\n",
        "    f = open(f\"{nombre_archivo}.txt\",'r')\n",
        "    lines = f.readlines()[4:-1]\n",
        "\n",
        "    tiempo = [] #segundos\n",
        "    newtons = []\n",
        "\n",
        "    for line in lines:\n",
        "        tiempo.append(float(line.split(\"\\t\")[0].replace(',', '.')))\n",
        "        newtons.append(float(line.split(\"\\t\")[1].split(\"\\n\")[0].replace(',', '.')))\n",
        "\n",
        "    tiempo = np.array(tiempo)\n",
        "    newtons = np.array(newtons)\n",
        "\n",
        "    return tiempo, newtons"
      ]
    },
    {
      "attachments": {},
      "cell_type": "markdown",
      "metadata": {
        "id": "ZTL_05hfz6sN"
      },
      "source": [
        "### Leer xlms"
      ]
    },
    {
      "cell_type": "code",
      "execution_count": null,
      "metadata": {
        "colab": {
          "base_uri": "https://localhost:8080/",
          "height": 53
        },
        "id": "2rvr-2JS0f5P",
        "outputId": "74eb919d-5053-448c-9fe8-07364a339e67"
      },
      "outputs": [
        {
          "data": {
            "application/vnd.google.colaboratory.intrinsic+json": {
              "type": "string"
            },
            "text/plain": [
              "\"\\ndatos = pd.read_excel('NOMBRE DEL ARCHIVO.xlsx')\\nfor i in range(1, 10):\\n    columna_longitud = f'longitud{i}'\\n    pasadas = []\\n    for j in range(0, 5):\\n        if datos[columna_longitud][j] != 'NaN':\\n            pasadas.append(datos[columna_longitud][j])\\n    longitudes_generales.append(np.mean(pasadas))\\n\""
            ]
          },
          "execution_count": 4,
          "metadata": {},
          "output_type": "execute_result"
        }
      ],
      "source": [
        "\"\"\"\n",
        "datos = pd.read_excel('NOMBRE DEL ARCHIVO.xlsx')\n",
        "for i in range(1, 10):\n",
        "    columna_longitud = f'longitud{i}'\n",
        "    pasadas = []\n",
        "    for j in range(0, 5):\n",
        "        if datos[columna_longitud][j] != 'NaN':\n",
        "            pasadas.append(datos[columna_longitud][j])\n",
        "    longitudes_generales.append(np.mean(pasadas))\n",
        "\"\"\""
      ]
    },
    {
      "attachments": {},
      "cell_type": "markdown",
      "metadata": {
        "id": "q4H1YKOHw3DW"
      },
      "source": [
        "### Derivadas Parciales"
      ]
    },
    {
      "cell_type": "code",
      "execution_count": null,
      "metadata": {
        "id": "lC8V7BX2xCUv"
      },
      "outputs": [],
      "source": [
        "def derivada_parcial(variable, funcion, valores=None):\n",
        "    derivada = sp.diff(funcion, variable)\n",
        "\n",
        "    if valores != None and type(valores) == dict:\n",
        "        return derivada.subs(valores)\n",
        "    \n",
        "    elif valores != None and type(valores) == list:\n",
        "        derivadas_evaluadas = []\n",
        "\n",
        "        for i in valores:\n",
        "            evaluar = sp.lambdify(variable, derivada)\n",
        "            derivadas_evaluadas.append(evaluar(i))\n",
        "        derivadas_evaluadas = np.array(derivadas_evaluadas)\n",
        "        \n",
        "        return derivadas_evaluadas\n",
        "\n",
        "    elif valores != None and (type(valores) == int or type(valores) == float): return derivada.evalf(subs={variable: valores})\n",
        "\n",
        "    else: return derivada"
      ]
    },
    {
      "attachments": {},
      "cell_type": "markdown",
      "metadata": {},
      "source": [
        "### Cuadrados Mínimos"
      ]
    },
    {
      "cell_type": "code",
      "execution_count": null,
      "metadata": {},
      "outputs": [],
      "source": [
        "#definimos el parametro a\n",
        "def a(N, xi, yi ):\n",
        "    numerador_a = (N * np.sum(xi * yi)) - ((np.sum(xi)) * (np.sum(yi))) \n",
        "    denominador_a = ((N*np.sum(xi**2))) - ((np.sum(xi)**2))\n",
        "    return numerador_a/denominador_a\n",
        "#definimos el parametro b\n",
        "def b(N,xi,yi):\n",
        "    numerador_b = (np.sum(xi**2))*(np.sum(yi)) - (np.sum(xi)*np.sum(xi*yi))\n",
        "    denominador_b = ((N*np.sum(xi**2))) - ((np.sum(xi)**2))\n",
        "    return numerador_b/denominador_b \n",
        "#definimos f(xi)= axi +b\n",
        "def f(N,xi,yi): return a(N,xi,yi)* xi + b(N,xi,yi)\n",
        "\n",
        "def sigma_a(N,xi,yi):\n",
        "    delta_a= ((N*np.sum(xi**2))) - ((np.sum(xi)**2))\n",
        "    cociente= N/delta_a\n",
        "    sigma_ya=np.std(yi)\n",
        "    return sigma_ya*np.sqrt(cociente)\n",
        "def sigma_b(N,xi,yi):\n",
        "    delta_b= ((N*np.sum(xi**2))) - ((np.sum(xi)**2))\n",
        "    cociente= (np.sum(xi**2))/delta_b\n",
        "    sigma_yb=np.std(yi)\n",
        "    return sigma_yb*np.sqrt(cociente)\n",
        "   \n",
        "    #N= cantidad de mediciones \n",
        "    #donde Xi Yi son los datos medidos "
      ]
    },
    {
      "attachments": {},
      "cell_type": "markdown",
      "metadata": {
        "id": "lO_UzxmexapF"
      },
      "source": [
        "### Cuadrados Mínimos Ponderados"
      ]
    },
    {
      "cell_type": "code",
      "execution_count": 3,
      "metadata": {
        "id": "yzJwFVNVxh1p"
      },
      "outputs": [],
      "source": [
        "#definimos el parametro a\n",
        "def ap(xi, yi, sigma_yi):\n",
        "    wi = 1 / (sigma_yi**2)\n",
        "    numerador_a = (np.sum(wi) * np.sum(xi * yi * wi)) - ((np.sum(xi * wi)) * (np.sum(yi * wi))) \n",
        "    denominador_a = (np.sum(wi) * np.sum(wi * (xi**2)) - (np.sum(wi * xi)**2))\n",
        "    return (numerador_a / denominador_a)\n",
        "\n",
        "#definimos el parametro b\n",
        "def bp(xi,yi, sigma_yi):\n",
        "    wi = 1 / (sigma_yi**2)\n",
        "    numerador_b = (np.sum(wi * (xi**2))) * (np.sum(wi * yi)) - (np.sum(xi * wi) * np.sum(xi * yi * wi))\n",
        "    denominador_b = (np.sum(wi) * np.sum(wi * (xi**2)) - (np.sum(wi * xi)**2))\n",
        "    return numerador_b / denominador_b \n",
        "\n",
        "#definimos f(xi)= axi + b\n",
        "def fp(xi,yi,sigma_yi): return ap(xi,yi,sigma_yi)* xi + bp(xi,yi,sigma_yi)\n",
        "\n",
        "#definimos sigmas de a y b\n",
        "def sigma_ap(xi,yi,sigma_yi):\n",
        "    wi = 1 / (sigma_yi**2)\n",
        "    denominador_a = (np.sum(wi) * np.sum(wi * (xi**2)) - (np.sum(wi * xi)**2))\n",
        "    radicando = (np.sum(wi)) / (denominador_a)\n",
        "    return np.sqrt(radicando)\n",
        "\n",
        "def sigma_bp(xi,yi,sigma_yi):\n",
        "    wi = 1 / (sigma_yi**2)\n",
        "    denominador_b = (np.sum(wi) * np.sum(wi * (xi**2)) - (np.sum(wi * xi)**2))\n",
        "    radicando = (np.sum(wi * xi**2)) / denominador_b\n",
        "    return np.sqrt(radicando)"
      ]
    },
    {
      "attachments": {},
      "cell_type": "markdown",
      "metadata": {
        "id": "2P4ALxJixu42"
      },
      "source": [
        "### Coeficiente de Pearson $(r^2)$"
      ]
    },
    {
      "cell_type": "code",
      "execution_count": null,
      "metadata": {
        "id": "q23rB1Wwx5f7"
      },
      "outputs": [],
      "source": [
        "def coef_person(xi, yi):\n",
        "    if len(xi) == len(yi):\n",
        "        N = len(xi)\n",
        "        numerador_cp = ((N * (np.sum(xi * yi))) - (np.sum(xi) * np.sum(yi))) **2\n",
        "        denominador_cp = ((N * np.sum(xi**2)) - (np.sum(xi))**2) * ((N * np.sum(yi**2)) - (np.sum(yi))**2)\n",
        "        return np.sqrt(numerador_cp / denominador_cp)\n",
        "    else:\n",
        "        return print(f'Los valores en x son distinto que los y: |cantidad en x:{len(xi)}| |cantidad en y:{len(yi)}|')"
      ]
    },
    {
      "attachments": {},
      "cell_type": "markdown",
      "metadata": {
        "id": "MZ3Y-bJHyxZn"
      },
      "source": [
        "### Cifras Significativas"
      ]
    },
    {
      "cell_type": "code",
      "execution_count": null,
      "metadata": {
        "id": "My8oQuaayzpv"
      },
      "outputs": [],
      "source": [
        "def redondearA1CS(datos):\n",
        "    # Requiere: tipo numero\n",
        "    def redondearUnNumeroA1CS(numero):\n",
        "        cifras = 0\n",
        "        n = numero\n",
        "        if numero < 10:\n",
        "            while n < 1:\n",
        "                cifras += 1\n",
        "                n *= 10\n",
        "\n",
        "            # La funcion round de python no redondea el 5 para arriba\n",
        "            # Este es el workaround para eso\n",
        "            proximoDecimal = int(numero * (10**(cifras+1)) % 10)\n",
        "            if proximoDecimal == 5:\n",
        "                numero += 1 * (10**-cifras)\n",
        "\n",
        "            n = round(numero,cifras)\n",
        "\n",
        "            return n, cifras\n",
        "\n",
        "        if numero >= 10:\n",
        "            while n >= 10:\n",
        "                cifras +=1\n",
        "                n /= 10\n",
        "            n = round(numero, -cifras)\n",
        "            return n, -cifras\n",
        "    \n",
        "    if hasattr(datos, '__iter__'):\n",
        "        datosRedondeados = []\n",
        "        listaDecimales = []\n",
        "        for valor in datos:\n",
        "            valor_aux, decimales_aux = redondearUnNumeroA1CS(valor)\n",
        "            datosRedondeados.append(valor_aux)\n",
        "            listaDecimales.append(decimales_aux)\n",
        "\n",
        "        return datosRedondeados, listaDecimales\n",
        "    \n",
        "    # Si no es una lista, asume que es un numero\n",
        "    return redondearUnNumeroA1CS(datos)"
      ]
    },
    {
      "attachments": {},
      "cell_type": "markdown",
      "metadata": {
        "id": "4r5R5GPNzJWd"
      },
      "source": [
        "### P-value"
      ]
    },
    {
      "cell_type": "code",
      "execution_count": null,
      "metadata": {
        "id": "pJXsP0EezLwu"
      },
      "outputs": [],
      "source": [
        "def p_value(yi, fxi, sigma_yi, mediciones, parametros):\n",
        "    p_libres = mediciones - parametros\n",
        "    \n",
        "    def chi_2(yi, fxi, sigma_yi):\n",
        "        numerador_chi_2 = yi - fxi\n",
        "        return np.sum((numerador_chi_2 / sigma_yi)**2)\n",
        "    \n",
        "    return chi2.sf(chi_2(yi, fxi, sigma_yi), p_libres)"
      ]
    },
    {
      "attachments": {},
      "cell_type": "markdown",
      "metadata": {
        "id": "YZEpKnTw3JNd"
      },
      "source": [
        "### Curvefit funciones con parámetros no lineales"
      ]
    },
    {
      "cell_type": "code",
      "execution_count": null,
      "metadata": {},
      "outputs": [],
      "source": [
        "def obtener_curvefit(funcion, dato1, dato2, condiciones_iniciales):\n",
        "    popt, pcov = curve_fit(funcion, dato1, dato2, p0=[condiciones_iniciales])\n",
        "    errores = np.sqrt(np.diag(pcov))\n",
        "    return popt, errores"
      ]
    },
    {
      "attachments": {},
      "cell_type": "markdown",
      "metadata": {
        "id": "UjLJ10aqOf_H"
      },
      "source": [
        "### Gauss"
      ]
    },
    {
      "cell_type": "code",
      "execution_count": null,
      "metadata": {
        "id": "GsPrIWm1Oh0o"
      },
      "outputs": [],
      "source": [
        "def gauss(x):\n",
        "    media = np.mean(x)\n",
        "    producto_gauss = 1 / ((np.sqrt(2*np.pi)) * np.std(x))\n",
        "    exp_gauss = -(x - media)**2 / (2*(np.std(x))**2)\n",
        "    return producto_gauss*np.exp(exp_gauss)\n",
        "\n",
        "def integral_campana_gauss(media, incerteza, a, b):\n",
        "    # Definir la función de distribución normal (campana de Gauss)\n",
        "    gaussiana = norm(loc=media, scale=incerteza)\n",
        "    \n",
        "    # Definir la función a integrar\n",
        "    integrando = lambda x: gaussiana.pdf(x)\n",
        "    \n",
        "    # Calcular la integral de la función entre los puntos a y b\n",
        "    resultado, error = quad(integrando, a, b)\n",
        "    \n",
        "    return resultado"
      ]
    },
    {
      "attachments": {},
      "cell_type": "markdown",
      "metadata": {},
      "source": [
        "# Desarrollo del parcial"
      ]
    }
  ],
  "metadata": {
    "colab": {
      "provenance": []
    },
    "kernelspec": {
      "display_name": "Python 3",
      "name": "python3"
    },
    "language_info": {
      "codemirror_mode": {
        "name": "ipython",
        "version": 3
      },
      "file_extension": ".py",
      "mimetype": "text/x-python",
      "name": "python",
      "nbconvert_exporter": "python",
      "pygments_lexer": "ipython3",
      "version": "3.11.2"
    }
  },
  "nbformat": 4,
  "nbformat_minor": 0
}
