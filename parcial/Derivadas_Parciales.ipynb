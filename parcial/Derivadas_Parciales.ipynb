{
  "cells": [
    {
      "cell_type": "markdown",
      "metadata": {
        "id": "OzEkpQOGhTtz"
      },
      "source": [
        "# Importo librerias"
      ]
    },
    {
      "cell_type": "code",
      "execution_count": 150,
      "metadata": {
        "id": "aNC3FJq4hTt1"
      },
      "outputs": [],
      "source": [
        "import sympy as sp\n",
        "import numpy as np\n",
        "import matplotlib.pyplot as plt"
      ]
    },
    {
      "cell_type": "markdown",
      "metadata": {
        "id": "-Rvzz9KQhTt2"
      },
      "source": [
        "## Defino la funcion \"Derivadas Parciales\""
      ]
    },
    {
      "cell_type": "code",
      "execution_count": 151,
      "metadata": {
        "id": "qolYO8ufhTt2"
      },
      "outputs": [],
      "source": [
        "def derivada_parcial(variable, funcion, valores=None):\n",
        "    derivada = sp.diff(funcion, variable)\n",
        "\n",
        "    if valores != None and type(valores) == dict:\n",
        "        return derivada.subs(valores)\n",
        "    \n",
        "    elif valores != None and type(valores) == list:\n",
        "        derivadas_evaluadas = []\n",
        "\n",
        "        for i in valores:\n",
        "            evaluar = sp.lambdify(variable, derivada)\n",
        "            derivadas_evaluadas.append(evaluar(i))\n",
        "        derivadas_evaluadas = np.array(derivadas_evaluadas)\n",
        "        \n",
        "        return derivadas_evaluadas\n",
        "\n",
        "    elif valores != None and (type(valores) == int or type(valores) == float): return derivada.evalf(subs={variable: valores})\n",
        "\n",
        "    else: return derivada"
      ]
    },
    {
      "cell_type": "markdown",
      "metadata": {
        "id": "MX1M8LlbhTt3"
      },
      "source": [
        "# Ejemplos"
      ]
    },
    {
      "cell_type": "markdown",
      "metadata": {
        "id": "bnqg7IevhTt4"
      },
      "source": [
        "### Ejemplo 1"
      ]
    },
    {
      "cell_type": "code",
      "source": [
        "x, y = sp.symbols('x y')\n",
        "f = x**2 + x*y**2\n",
        "df_x = sp.diff(f, x)\n",
        "df_y = sp.diff(f, y)\n",
        "valor = {\n",
        "    x:4,\n",
        "    y:6\n",
        "}\n",
        "print(df_x.subs(valor))"
      ],
      "metadata": {
        "id": "NQwLavex2Cps",
        "outputId": "b50ea597-8628-4f94-ac60-b28969e069e9",
        "colab": {
          "base_uri": "https://localhost:8080/"
        }
      },
      "execution_count": 152,
      "outputs": [
        {
          "output_type": "stream",
          "name": "stdout",
          "text": [
            "44\n"
          ]
        }
      ]
    },
    {
      "cell_type": "markdown",
      "metadata": {
        "id": "G_Itm1Z5hTt5"
      },
      "source": [
        "### Ejemplo 2"
      ]
    },
    {
      "cell_type": "code",
      "execution_count": 153,
      "metadata": {
        "id": "WP-1kzv9hTt5",
        "outputId": "8e38c4e1-e18e-42c7-eb98-265188dc0ba0",
        "colab": {
          "base_uri": "https://localhost:8080/"
        }
      },
      "outputs": [
        {
          "output_type": "stream",
          "name": "stdout",
          "text": [
            "\n",
            "La derivadadas parciales evaluadas con respecto a x es: 6.00000000000000\n"
          ]
        }
      ],
      "source": [
        "x, y, z = sp.symbols('x y z')\n",
        "f = x**2 + y**3\n",
        "derivada = derivada_parcial(x,f,3)\n",
        "print(f'\\nLa derivadadas parciales evaluadas con respecto a x es: {derivada}')"
      ]
    },
    {
      "cell_type": "markdown",
      "metadata": {
        "id": "NzAgeBodhTt6"
      },
      "source": [
        "### Ejemplo 3"
      ]
    },
    {
      "cell_type": "code",
      "execution_count": 154,
      "metadata": {
        "id": "3doE5nUGhTt7",
        "outputId": "4b5f79c6-084a-4c63-ba3f-1bbbe083349c",
        "colab": {
          "base_uri": "https://localhost:8080/"
        }
      },
      "outputs": [
        {
          "output_type": "stream",
          "name": "stdout",
          "text": [
            "La derivada con respecto a x evaluada en (x,y)=(2,4) es: 4\n"
          ]
        }
      ],
      "source": [
        "x, y, z, h = sp.symbols('x y z h')\n",
        "f = x**2 + y**2 + z**2 + h**2\n",
        "valores = {\n",
        "    x: 2,\n",
        "    y: 4,\n",
        "    z: 3,\n",
        "    h: 8\n",
        "}\n",
        "print(f'La derivada con respecto a x evaluada en (x,y)=(2,4) es: {derivada_parcial(x,f, valores)}')"
      ]
    },
    {
      "cell_type": "markdown",
      "source": [
        "### Ejemplo 4"
      ],
      "metadata": {
        "id": "0BvF1liD5B2u"
      }
    },
    {
      "cell_type": "code",
      "source": [
        "x = sp.symbols('x')\n",
        "x_valores = np.arange(-50, 50)\n",
        "funtion = x**2\n",
        "f = sp.lambdify(x, funtion)\n",
        "\n",
        "plt.plot(x_valores, f(x_valores), 'b-', label='$x^{2}$')\n",
        "plt.plot(x_valores, derivada_parcial(x, funtion, list(x_valores)), '--', color='orange', label='x')\n",
        "\n",
        "plt.title(r'$x^2$')\n",
        "plt.legend(loc='upper right')\n",
        "plt.show()"
      ],
      "metadata": {
        "id": "SdKTyU2H5Dft",
        "outputId": "0b39c712-1126-4413-d3ee-877f6aef5e0b",
        "colab": {
          "base_uri": "https://localhost:8080/",
          "height": 454
        }
      },
      "execution_count": 164,
      "outputs": [
        {
          "output_type": "display_data",
          "data": {
            "text/plain": [
              "<Figure size 640x480 with 1 Axes>"
            ],
            "image/png": "[encoded data removed]"
          },
          "metadata": {}
        }
      ]
    }
  ],
  "metadata": {
    "kernelspec": {
      "display_name": "Python 3",
      "language": "python",
      "name": "python3"
    },
    "language_info": {
      "codemirror_mode": {
        "name": "ipython",
        "version": 3
      },
      "file_extension": ".py",
      "mimetype": "text/x-python",
      "name": "python",
      "nbconvert_exporter": "python",
      "pygments_lexer": "ipython3",
      "version": "3.11.2"
    },
    "orig_nbformat": 4,
    "colab": {
      "provenance": []
    }
  },
  "nbformat": 4,
  "nbformat_minor": 0
}