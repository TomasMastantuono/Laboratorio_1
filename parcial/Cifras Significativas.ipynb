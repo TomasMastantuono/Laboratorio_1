{
 "cells": [
  {
   "cell_type": "code",
   "execution_count": 2,
   "metadata": {},
   "outputs": [],
   "source": [
    "def redondearA1CS(datos):\n",
    "    # Requiere: tipo numero\n",
    "    def redondearUnNumeroA1CS(numero):\n",
    "        cifras = 0\n",
    "        n = numero\n",
    "        if numero < 10:\n",
    "            while n < 1:\n",
    "                cifras += 1\n",
    "                n *= 10\n",
    "\n",
    "            # La funcion round de python no redondea el 5 para arriba\n",
    "            # Este es el workaround para eso\n",
    "            proximoDecimal = int(numero * (10**(cifras+1)) % 10)\n",
    "            if proximoDecimal == 5:\n",
    "                numero += 1 * (10**-cifras)\n",
    "\n",
    "            n = round(numero,cifras)\n",
    "\n",
    "            return n, cifras\n",
    "\n",
    "        if numero >= 10:\n",
    "            while n >= 10:\n",
    "                cifras +=1\n",
    "                n /= 10\n",
    "            n = round(numero, -cifras)\n",
    "            return n, -cifras\n",
    "    \n",
    "    if hasattr(datos, '__iter__'):\n",
    "        datosRedondeados = []\n",
    "        listaDecimales = []\n",
    "        for valor in datos:\n",
    "            valor_aux, decimales_aux = redondearUnNumeroA1CS(valor)\n",
    "            datosRedondeados.append(valor_aux)\n",
    "            listaDecimales.append(decimales_aux)\n",
    "\n",
    "        return datosRedondeados, listaDecimales\n",
    "    \n",
    "    # Si no es una lista, asume que es un numero\n",
    "    return redondearUnNumeroA1CS(datos)"
   ]
  }
 ],
 "metadata": {
  "kernelspec": {
   "display_name": "Python 3",
   "language": "python",
   "name": "python3"
  },
  "language_info": {
   "codemirror_mode": {
    "name": "ipython",
    "version": 3
   },
   "file_extension": ".py",
   "mimetype": "text/x-python",
   "name": "python",
   "nbconvert_exporter": "python",
   "pygments_lexer": "ipython3",
   "version": "3.11.2"
  },
  "orig_nbformat": 4
 },
 "nbformat": 4,
 "nbformat_minor": 2
}
