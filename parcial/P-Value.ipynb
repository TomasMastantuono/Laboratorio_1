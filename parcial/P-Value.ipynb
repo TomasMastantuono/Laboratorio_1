{
 "cells": [
  {
   "cell_type": "code",
   "execution_count": null,
   "metadata": {},
   "outputs": [],
   "source": [
    "import numpy as np\n",
    "from scipy.stats import chi2"
   ]
  },
  {
   "cell_type": "code",
   "execution_count": null,
   "metadata": {},
   "outputs": [],
   "source": [
    "def p_value(yi, fxi, sigma_yi, mediciones, parametros):\n",
    "    p_libres = mediciones - parametros\n",
    "    \n",
    "    def chi_2(yi, fxi, sigma_yi):\n",
    "        numerador_chi_2 = yi - fxi\n",
    "        return np.sum((numerador_chi_2 / sigma_yi)**2)\n",
    "    \n",
    "    return chi2.sf(chi_2(yi, fxi, sigma_yi), p_libres)"
   ]
  }
 ],
 "metadata": {
  "language_info": {
   "name": "python"
  },
  "orig_nbformat": 4
 },
 "nbformat": 4,
 "nbformat_minor": 2
}
