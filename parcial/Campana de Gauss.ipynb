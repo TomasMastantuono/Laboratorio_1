{
 "cells": [
  {
   "cell_type": "code",
   "execution_count": null,
   "metadata": {},
   "outputs": [],
   "source": [
    "import numpy as np"
   ]
  },
  {
   "cell_type": "code",
   "execution_count": null,
   "metadata": {},
   "outputs": [],
   "source": [
    "def gauss(x):\n",
    "    media = np.mean(x)\n",
    "    producto_gauss = 1 / ((np.sqrt(2*np.pi)) * np.std(x))\n",
    "    exp_gauss = -(x - media)**2 / (2*(np.std(x))**2)\n",
    "    return producto_gauss*np.exp(exp_gauss)"
   ]
  }
 ],
 "metadata": {
  "language_info": {
   "name": "python"
  },
  "orig_nbformat": 4
 },
 "nbformat": 4,
 "nbformat_minor": 2
}
