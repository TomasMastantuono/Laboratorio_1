{
 "cells": [
  {
   "cell_type": "code",
   "execution_count": null,
   "metadata": {},
   "outputs": [],
   "source": [
    "import numpy as np\n",
    "from scipy.stats import norm\n",
    "from scipy.integrate import quad"
   ]
  },
  {
   "cell_type": "code",
   "execution_count": null,
   "metadata": {},
   "outputs": [],
   "source": [
    "def gauss(x):\n",
    "    media = np.mean(x)\n",
    "    producto_gauss = 1 / ((np.sqrt(2*np.pi)) * np.std(x))\n",
    "    exp_gauss = -(x - media)**2 / (2*(np.std(x))**2)\n",
    "    return producto_gauss*np.exp(exp_gauss)"
   ]
  },
  {
   "cell_type": "code",
   "execution_count": null,
   "metadata": {},
   "outputs": [],
   "source": [
    "def integral_campana_gauss(media, incerteza, a, b):\n",
    "    # Definir la función de distribución normal (campana de Gauss)\n",
    "    gaussiana = norm(loc=media, scale=incerteza)\n",
    "    \n",
    "    # Definir la función a integrar\n",
    "    integrando = lambda x: gaussiana.pdf(x)\n",
    "    \n",
    "    # Calcular la integral de la función entre los puntos a y b\n",
    "    resultado, error = quad(integrando, a, b)\n",
    "    \n",
    "    return resultado"
   ]
  }
 ],
 "metadata": {
  "language_info": {
   "name": "python"
  },
  "orig_nbformat": 4
 },
 "nbformat": 4,
 "nbformat_minor": 2
}
