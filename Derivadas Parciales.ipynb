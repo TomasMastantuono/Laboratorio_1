{
 "cells": [
  {
   "attachments": {},
   "cell_type": "markdown",
   "metadata": {},
   "source": [
    "# Importo librerias"
   ]
  },
  {
   "cell_type": "code",
   "execution_count": 5,
   "metadata": {},
   "outputs": [],
   "source": [
    "import sympy as sp\n",
    "import numpy as np\n",
    "import matplotlib.pyplot as plt"
   ]
  },
  {
   "attachments": {},
   "cell_type": "markdown",
   "metadata": {},
   "source": [
    "## Defino la funcion \"Derivadas Parciales\""
   ]
  },
  {
   "cell_type": "code",
   "execution_count": 6,
   "metadata": {},
   "outputs": [],
   "source": [
    "def derivada_parcial(variable, funcion, valor=None):\n",
    "    #variable = sp.Symbol(f'{variable}') --> No es necesario si ya declaro las variables simbolicas cuando defino la funcion matematica\n",
    "    derivada = sp.diff(funcion, variable)\n",
    "    \n",
    "    if valor != None:\n",
    "        return derivada.evalf(subs={variable: valor})\n",
    "    else:\n",
    "        return derivada"
   ]
  },
  {
   "attachments": {},
   "cell_type": "markdown",
   "metadata": {},
   "source": [
    "# Ejemplos"
   ]
  },
  {
   "attachments": {},
   "cell_type": "markdown",
   "metadata": {},
   "source": [
    "## Ejemplo 1"
   ]
  },
  {
   "cell_type": "code",
   "execution_count": 7,
   "metadata": {},
   "outputs": [
    {
     "name": "stdout",
     "output_type": "stream",
     "text": [
      "La derivada parcial con respecto a x es: 2*x, y con respecto a y es: 3*y**2\n"
     ]
    }
   ],
   "source": [
    "x, y, z = sp.symbols('x y z')\n",
    "f = x**2 + y**3\n",
    "print(f'La derivada parcial con respecto a x es: {derivada_parcial(x,f)}, y con respecto a y es: {derivada_parcial(y,f)}')"
   ]
  },
  {
   "attachments": {},
   "cell_type": "markdown",
   "metadata": {},
   "source": [
    "## Ejemplo 2"
   ]
  },
  {
   "cell_type": "code",
   "execution_count": 8,
   "metadata": {},
   "outputs": [
    {
     "name": "stdout",
     "output_type": "stream",
     "text": [
      "La derivada parcial con respecto a x es: 4*x**3 + 3*y, y con respecto a y es: 3*x\n",
      "\n",
      "La derivadadas parciales evaluadas con respecto a x es: 3.0*y + 108.0, y con respecto a y es: 3.0*x\n"
     ]
    }
   ],
   "source": [
    "x, y, z = sp.symbols('x y z')\n",
    "f = x**4 + 3*y*x\n",
    "print(f'La derivada parcial con respecto a x es: {derivada_parcial(x,f)}, y con respecto a y es: {derivada_parcial(y,f)}')\n",
    "print(f'\\nLa derivadadas parciales evaluadas con respecto a x es: {derivada_parcial (x,f,3)}, y con respecto a y es: {derivada_parcial (y,f,3)}')"
   ]
  }
 ],
 "metadata": {
  "kernelspec": {
   "display_name": "Python 3",
   "language": "python",
   "name": "python3"
  },
  "language_info": {
   "codemirror_mode": {
    "name": "ipython",
    "version": 3
   },
   "file_extension": ".py",
   "mimetype": "text/x-python",
   "name": "python",
   "nbconvert_exporter": "python",
   "pygments_lexer": "ipython3",
   "version": "3.11.2"
  },
  "orig_nbformat": 4
 },
 "nbformat": 4,
 "nbformat_minor": 2
}
