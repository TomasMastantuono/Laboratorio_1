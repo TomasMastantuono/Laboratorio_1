{
 "cells": [
  {
   "attachments": {},
   "cell_type": "markdown",
   "metadata": {},
   "source": [
    "# Importo librerias"
   ]
  },
  {
   "cell_type": "code",
   "execution_count": 99,
   "metadata": {},
   "outputs": [],
   "source": [
    "import sympy as sp\n",
    "import numpy as np\n",
    "import matplotlib.pyplot as plt # lo uso para el ejemplo, no es necesario importarlo para que funcione el script"
   ]
  },
  {
   "attachments": {},
   "cell_type": "markdown",
   "metadata": {},
   "source": [
    "## Defino la funcion \"Derivadas Parciales\""
   ]
  },
  {
   "cell_type": "code",
   "execution_count": 100,
   "metadata": {},
   "outputs": [],
   "source": [
    "def derivada_parcial(variable, funcion, valores=None):\n",
    "    #variable = sp.Symbol(f'{variable}') --> No es necesario si ya declaro las variables simbolicas cuando defino la funcion matematica\n",
    "    derivada = sp.diff(funcion, variable)\n",
    "\n",
    "    def c_diccionario(diccionario, n):\n",
    "        dic_temp = {}\n",
    "        for clave in diccionario:\n",
    "            dic_temp[clave] = diccionario[clave][n]\n",
    "        return dic_temp\n",
    "            \n",
    "    if valores != None and type(valores) == dict:\n",
    "        df_evaluada = []\n",
    "        \n",
    "        primer_elemento_dict = list(valores.keys())[0]\n",
    "        lista_temporal = []\n",
    "        lista_temporal.append(valores[primer_elemento_dict])\n",
    "        rango = range(0, len(lista_temporal))\n",
    "        for i in rango:\n",
    "            valores_evalf = c_diccionario(valores, i)\n",
    "            df_evaluada.append(derivada.subs(valores_evalf))\n",
    "        df_evaluada = np.array(df_evaluada)\n",
    "        \n",
    "        return df_evaluada\n",
    "    \n",
    "    elif valores != None and (type(valores) == int or type(valores) == float): return derivada.evalf(subs={variable: valores})\n",
    "\n",
    "    else: return derivada"
   ]
  },
  {
   "attachments": {},
   "cell_type": "markdown",
   "metadata": {},
   "source": [
    "# Ejemplos"
   ]
  },
  {
   "attachments": {},
   "cell_type": "markdown",
   "metadata": {},
   "source": [
    "### Ejemplo 1"
   ]
  },
  {
   "cell_type": "code",
   "execution_count": 101,
   "metadata": {},
   "outputs": [
    {
     "name": "stdout",
     "output_type": "stream",
     "text": [
      "La derivada parcial con respecto a x es: 2*x, y con respecto a y es: 3*y**2\n"
     ]
    }
   ],
   "source": [
    "x, y, z = sp.symbols('x y z')\n",
    "f = x**2 + y**3\n",
    "print(f'La derivada parcial con respecto a x es: {derivada_parcial(x,f)}, y con respecto a y es: {derivada_parcial(y,f)}')"
   ]
  },
  {
   "attachments": {},
   "cell_type": "markdown",
   "metadata": {},
   "source": [
    "### Ejemplo 2"
   ]
  },
  {
   "cell_type": "code",
   "execution_count": 102,
   "metadata": {},
   "outputs": [
    {
     "name": "stdout",
     "output_type": "stream",
     "text": [
      "\n",
      "La derivadadas parciales evaluadas con respecto a x es: 6.00000000000000\n"
     ]
    }
   ],
   "source": [
    "x, y, z = sp.symbols('x y z')\n",
    "f = x**2 + y**3\n",
    "derivada = derivada_parcial(x,f,3)\n",
    "print(f'\\nLa derivadadas parciales evaluadas con respecto a x es: {derivada}')"
   ]
  },
  {
   "attachments": {},
   "cell_type": "markdown",
   "metadata": {},
   "source": [
    "### Ejemplo 3"
   ]
  },
  {
   "cell_type": "code",
   "execution_count": 103,
   "metadata": {},
   "outputs": [
    {
     "name": "stdout",
     "output_type": "stream",
     "text": [
      "0\n",
      "1\n",
      "2\n",
      "3\n"
     ]
    }
   ],
   "source": [
    "valores = {\n",
    "    x: 2,\n",
    "    y: 4\n",
    "}\n",
    "primer_elemento_dict = list(valores.keys())[0]\n",
    "valor_primer_elemento = valores[primer_elemento_dict]\n",
    "g = range(0, 4)\n",
    "for i in g:\n",
    "    print(i)"
   ]
  },
  {
   "cell_type": "code",
   "execution_count": 105,
   "metadata": {},
   "outputs": [
    {
     "name": "stdout",
     "output_type": "stream",
     "text": [
      "La derivada con respecto a x evaluada en (x,y)=(2,4) es: [2]\n"
     ]
    }
   ],
   "source": [
    "x, y, z = sp.symbols('x y z')\n",
    "f = x**2 + y**3\n",
    "\n",
    "valores = {\n",
    "    x: [1,2],\n",
    "    y: [2,3]\n",
    "}\n",
    "print(f'La derivada con respecto a x evaluada en (x,y)=(2,4) es: {derivada_parcial(x,f,valores)}')\n"
   ]
  }
 ],
 "metadata": {
  "kernelspec": {
   "display_name": "Python 3",
   "language": "python",
   "name": "python3"
  },
  "language_info": {
   "codemirror_mode": {
    "name": "ipython",
    "version": 3
   },
   "file_extension": ".py",
   "mimetype": "text/x-python",
   "name": "python",
   "nbconvert_exporter": "python",
   "pygments_lexer": "ipython3",
   "version": "3.11.2"
  },
  "orig_nbformat": 4
 },
 "nbformat": 4,
 "nbformat_minor": 2
}
